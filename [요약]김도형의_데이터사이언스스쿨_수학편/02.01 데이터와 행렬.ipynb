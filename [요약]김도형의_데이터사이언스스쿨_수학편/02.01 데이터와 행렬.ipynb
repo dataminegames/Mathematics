{
 "cells": [
  {
   "cell_type": "markdown",
   "metadata": {
    "school_cell_uuid": "1eee720c2bb548ada1396f9db2b9a09b"
   },
   "source": [
    "## 2.1 데이터와 행렬"
   ]
  },
  {
   "cell_type": "code",
   "execution_count": 1,
   "metadata": {
    "school_cell_uuid": "c43a6791752e40cdba855d9f11bba8a6"
   },
   "outputs": [],
   "source": [
    "import numpy as np\n",
    "import matplotlib.pylab as plt\n",
    "%matplotlib inline"
   ]
  },
  {
   "cell_type": "markdown",
   "metadata": {
    "school_cell_uuid": "4bbfde3fcb9741edae1d64b498655190"
   },
   "source": [
    "### 데이터의 유형\n",
    "\n",
    "선형대수에서 다루는 데이터는 개수나 형태에 따라 크게 4가지 유형으로 나뉜다. **스칼라(scalar)**는 숫자 하나로 이루어진 데이터이고, **벡터(vector)**는 여러 숫자로 이루어진 데이터 레코드(data record)이며, **행렬(matrix)**은 이러한 벡터의 집합이라고 볼 수 있다. **텐서(tensor)**는 같은 크기의 행렬이 여러 개 있는 것이라고 생각하면 된다."
   ]
  },
  {
   "cell_type": "code",
   "execution_count": 2,
   "metadata": {},
   "outputs": [
    {
     "data": {
      "text/plain": [
       "array([5.1, 3.5, 1.4, 0.2])"
      ]
     },
     "execution_count": 2,
     "metadata": {},
     "output_type": "execute_result"
    }
   ],
   "source": [
    "from sklearn.datasets import load_iris  # 사이킷런 패키지 임포트\n",
    "\n",
    "iris = load_iris()  # 데이터 로드\n",
    "iris.data[0, :]  # 첫 번째 꽃의 데이터"
   ]
  },
  {
   "cell_type": "markdown",
   "metadata": {
    "school_cell_uuid": "9e2fade84b03467fbbbfe4fd41c5739a"
   },
   "source": [
    "#### 스칼라\n",
    "\n",
    "스칼라는 하나의 숫자만으로 이루어진 데이터를 말한다.\n",
    "\n",
    "$$\n",
    "\\begin{align}\n",
    "x \\in \\mathbf{R} \n",
    "\\end{align}\n",
    "$$\n",
    "\n",
    "#### 벡터\n",
    "\n",
    "벡터는 순서가 있는 숫자의 묶음을 말한다. $n$개의 숫자 데이터를 가진 벡터를 **n-차원 벡터(n-dimensional vector)**라고 하며 다음과 같이 표기한다. 아래 첨자(subscript)를 붙인 벡터의 원소는 문맥에 따라 스칼라 일 수도 있고 벡터일 수도 있다.\n",
    "\n",
    "$$ \n",
    "\\begin{align}\n",
    "x = \\begin{bmatrix}\n",
    "x_{1} \\\\\n",
    "x_{2} \\\\\n",
    "\\vdots \\\\\n",
    "x_{N} \\\\\n",
    "\\end{bmatrix} \\\\\n",
    "\\end{align}\n",
    "$$\n",
    "\n",
    "$$ \n",
    "\\begin{align}\n",
    "x \\in \\mathbf{R}^N\n",
    "\\end{align}\n",
    "$$\n",
    "\n",
    "벡터가 예측 문제에서 입력 데이터로 사용되면 **특징 벡터(feature vector)**라고 한다. 한개의 표본에 대한 $n$개의 특징을 벡터로 표현 할 수 있다. 다음은 붓꽃 한 송이에 대한 네가지 특징을 벡터로 표시한 예시다.\n",
    "\n",
    "$$  \n",
    "\\begin{align}\n",
    "x_1 = \n",
    "\\begin{bmatrix}\n",
    "5.1 \\\\\n",
    "3.5 \\\\\n",
    "1.4 \\\\\n",
    "0.2 \\\\  \n",
    "\\end{bmatrix}\n",
    "\\end{align}\n",
    "$$\n",
    "\n",
    "넘파이는 선형대수 문제를 풀 때 사용하는 파이썬 패키지다.\n",
    "이때 배열의 차원은 벡터의 차원과 다른 의미다. 벡터의 차원은 원소 개수를 뜻한다. 반면, 배열은 원소 개수와 상관 없이 \n",
    "- 한 줄로 나타낼 수 있다면 1차원 배열(1-dimensional array), "
   ]
  },
  {
   "cell_type": "code",
   "execution_count": 3,
   "metadata": {
    "school_cell_uuid": "b749f2548cb040e2b6e96cb95690506d"
   },
   "outputs": [
    {
     "data": {
      "text/plain": [
       "array([5.1, 3.5, 1.4, 0.2])"
      ]
     },
     "execution_count": 3,
     "metadata": {},
     "output_type": "execute_result"
    }
   ],
   "source": [
    "x1 = np.array([5.1, 3.5, 1.4, 0.2])\n",
    "x1"
   ]
  },
  {
   "cell_type": "markdown",
   "metadata": {},
   "source": [
    "- 가로와 세로가 있는 여러 줄의 직사각형 형태로 나타낼 수 있으면 2차원 배열(2-dimensional array)"
   ]
  },
  {
   "cell_type": "code",
   "execution_count": 4,
   "metadata": {
    "school_cell_uuid": "2e36533cf9d74b889a9f34ee87a74fff"
   },
   "outputs": [
    {
     "data": {
      "text/plain": [
       "array([[5.1],\n",
       "       [3.5],\n",
       "       [1.4],\n",
       "       [0.2]])"
      ]
     },
     "execution_count": 4,
     "metadata": {},
     "output_type": "execute_result"
    }
   ],
   "source": [
    "x1 = np.array([[5.1], [3.5], [1.4], [0.2]])\n",
    "x1"
   ]
  },
  {
   "cell_type": "markdown",
   "metadata": {
    "school_cell_uuid": "994159d55c7941bda21f861ee49a1724"
   },
   "source": [
    "\n",
    "이라고 한다.\n",
    "\n",
    "넘파이는 1차원 배열도 대부분 벡터로 인정한다. 행벡터 처럼 표시되어도 실제로는 열이라는 점에 주의한다. 그러나 프로그램에 따라 벡터의 열 표현법 표기를 정확하게 요구하는 경우도 있다. 예를 들어, 사이킷런 패키지의 경우 벡터를 입력할 때 2차원 배열 객체를 넣어야 한다."
   ]
  },
  {
   "cell_type": "markdown",
   "metadata": {
    "school_cell_uuid": "ae1f233ccc004e5696dff918d6c05884"
   },
   "source": [
    "#### 행렬\n",
    "\n",
    "행렬은 복수의 차원을 가지는 데이터 레코드가 다시 여러 개 있는 경우의 데이터를 합쳐서 표기한 것이다.\n",
    " \n",
    "$$\n",
    "\\begin{align}\n",
    "X = \n",
    "\\begin{bmatrix}\n",
    "\\boxed{\\begin{matrix} x_{1, 1} & x_{1, 2} & x_{1, 3} & x_{1, 4}\\end{matrix}}  \\\\\n",
    "\\begin{matrix} x_{2, 1} & x_{2, 2} & x_{2, 3} & x_{2, 4}\\end{matrix} \\\\\n",
    "\\begin{matrix} x_{3, 1} & x_{3, 2} & x_{3, 3} & x_{3, 4}\\end{matrix} \\\\\n",
    "\\begin{matrix} x_{4, 1} & x_{4, 2} & x_{4, 3} & x_{4, 4}\\end{matrix} \\\\\n",
    "\\begin{matrix} x_{5, 1} & x_{5, 2} & x_{5, 3} & x_{5, 4}\\end{matrix} \\\\\n",
    "\\begin{matrix} x_{6, 1} & x_{6, 2} & x_{6, 3} & x_{6, 4}\\end{matrix} \\\\\n",
    "\\end{bmatrix}\n",
    "\\end{align} \\\\\n",
    "$$\n",
    "\n",
    "$$\n",
    "\\begin{align}\n",
    "X \\in \\mathbf{R}^{6\\times 4} \\\\\n",
    "\\end{align}\n",
    "$$\n",
    "\n",
    "예를 들어 특징벡터가 4차원인 붓꽃 데이터 레코드가 6개가 있다."
   ]
  },
  {
   "cell_type": "code",
   "execution_count": 5,
   "metadata": {},
   "outputs": [
    {
     "data": {
      "text/plain": [
       "array([[5.1, 3.5, 1.4, 0.2],\n",
       "       [4.9, 3. , 1.4, 0.2],\n",
       "       [4.7, 3.2, 1.3, 0.2],\n",
       "       [4.6, 3.1, 1.5, 0.2],\n",
       "       [5. , 3.6, 1.4, 0.2],\n",
       "       [5.4, 3.9, 1.7, 0.4]])"
      ]
     },
     "execution_count": 5,
     "metadata": {},
     "output_type": "execute_result"
    }
   ],
   "source": [
    "iris.data[:6, :]"
   ]
  },
  {
   "cell_type": "markdown",
   "metadata": {},
   "source": [
    "행렬은 보통 알파벳 대문자로 표기한다. 원소의 아래첨자 첫 번째 숫자가 행을 뜻하고 두 번째 숫자가 열을 뜻한다. 행/열의 수가 10보다 적을 때는 쉼표 없이 표기하기도 한다.\n",
    "\n",
    "**데이터 레코드 하나만 나타낼 때는 열(column)벡터**로 나타내고, **데이터 레코드 집합을 나타낼 때는 행(row)벡터가 쌓인 행렬**로 나타낸다. 추후 다른 연산을 할 때 이런 모양이 필요하기 때문에 데이터 분석에서 쓰는 일반적인 관례이다. 이 데이터를 이용하여 예측 문제를 풀고 있다면 이를 **특징 행렬(feature matrix)**이라고 한다.\n",
    "\n",
    "**스칼라와 벡터도 수학적으로는 행렬에 속한다**. 그래서 다음과 같이 행렬의 크기로 표시할 수도 있다.\n",
    "\n",
    "- 스칼라는 열과 행의 수가 각각 1인 행렬이고,\n",
    "\n",
    "$$ \n",
    "\\begin{align}\n",
    "a \\in \\mathbf{R}^{1\\times 1} \n",
    "\\end{align}\n",
    "$$\n",
    "\n",
    "- 벡터는 열의 수가 1인 행렬이다. (예를 들어 4차원의 붓꽃 벡터의 경우) \n",
    "\n",
    "$$ \n",
    "\\begin{align}\n",
    "x \\in \\mathbf{R}^{4\\times 1} \n",
    "\\end{align}\n",
    "$$\n",
    "\n"
   ]
  },
  {
   "cell_type": "markdown",
   "metadata": {
    "school_cell_uuid": "4261144828f94ae9a5f9ed12fa394bab"
   },
   "source": [
    "#### 텐서\n",
    "\n",
    "텐서는 같은 크기 행렬의 묶음을 말한다. 엄격한 수학적 정의로는 텐서는 다차원 배열로 표현되는 사상(mapping)으로 다차원 배열 자체를 뜻하지 않는다. 하지만 데이터 사이언스 분야에서는 흔히 다차원 배열을 텐서라고 부르므로 여기에서는 이러한 정의를 따르도록 한다.\n",
    "\n",
    "예를 들어 컬러 이미지는 빨강, 초록, 파랑의 밝기를 나타내는 이미지 행렬을 겹친 것이다. 각각의 행렬을 채널(channel)이라고 한다. 예제 이미지는 크기가 768 x 1024이고 3개의 채널이 있으므로 768 x 1024 x 3 크기의 3차원 텐서다."
   ]
  },
  {
   "cell_type": "code",
   "execution_count": 6,
   "metadata": {
    "school_cell_uuid": "dced45d42e89421a9d144021a928b374"
   },
   "outputs": [
    {
     "data": {
      "text/plain": [
       "(768, 1024, 3)"
      ]
     },
     "execution_count": 6,
     "metadata": {},
     "output_type": "execute_result"
    }
   ],
   "source": [
    "from scipy import misc  # 패키지 임포트\n",
    "\n",
    "img_rgb = misc.face()  # 컬러 이미지 로드\n",
    "img_rgb.shape  # 데이터의 모양"
   ]
  },
  {
   "cell_type": "markdown",
   "metadata": {},
   "source": [
    "![image](https://user-images.githubusercontent.com/45453533/83347286-279c5980-a35f-11ea-9757-7f5635373724.png)"
   ]
  },
  {
   "cell_type": "markdown",
   "metadata": {
    "school_cell_uuid": "39439dd839364e3bb4d1d438f70b53e9"
   },
   "source": [
    "### 전치 연산\n",
    "\n",
    "스칼라, 벡터, 행렬 데이터를 변형시키는 연산(operation) 중 **전치(transpose)** 연산은 행렬의 **행과 열을 바꾸는 연산**이다. 전치 연산은 벡터나 행렬에 $T$ 또는 프라임(prime)기호 $'$ 위첨자(superscript)를 붙인다.\n",
    "\n",
    "$$\n",
    "\\begin{align}\n",
    " x \\;\\; \\rightarrow \\;\\; x^T\\\\\n",
    "x \\;\\; \\rightarrow \\;\\; x' \n",
    "\\end{align}\n",
    "$$\n",
    "\n",
    "\n",
    "\n",
    "$6\\times 4$ 차원의 행렬을 전치 연산하면 $4\\times 6$ 차원의 행렬이 된다.\n",
    "\n",
    "$$\n",
    "\\begin{align}\n",
    "X = \n",
    "\\begin{bmatrix}\n",
    "\\boxed{\\begin{matrix} x_{1, 1} & x_{1, 2} & x_{1, 3} & x_{1, 4}\\end{matrix}}  \\\\\n",
    "\\begin{matrix} x_{2, 1} & x_{2, 2} & x_{2, 3} & x_{2, 4}\\end{matrix} \\\\\n",
    "\\begin{matrix} x_{3, 1} & x_{3, 2} & x_{3, 3} & x_{3, 4}\\end{matrix} \\\\\n",
    "\\begin{matrix} x_{4, 1} & x_{4, 2} & x_{4, 3} & x_{4, 4}\\end{matrix} \\\\\n",
    "\\begin{matrix} x_{5, 1} & x_{5, 2} & x_{5, 3} & x_{5, 4}\\end{matrix} \\\\\n",
    "\\begin{matrix} x_{6, 1} & x_{6, 2} & x_{6, 3} & x_{6, 4}\\end{matrix} \\\\\n",
    "\\end{bmatrix}\n",
    "\\;\\; \\rightarrow \\;\\;\n",
    "X^T = \n",
    "\\begin{bmatrix}\n",
    "\\boxed{\\begin{matrix} x_{1, 1} \\\\ x_{1, 2} \\\\ x_{1, 3} \\\\ x_{1, 4}\\end{matrix}} &\n",
    "\\begin{matrix} x_{2, 1} \\\\ x_{2, 2} \\\\ x_{2, 3} \\\\ x_{2, 4}\\end{matrix} &\n",
    "\\begin{matrix} x_{3, 1} \\\\ x_{3, 2} \\\\ x_{3, 3} \\\\ x_{3, 4}\\end{matrix} &\n",
    "\\begin{matrix} x_{4, 1} \\\\ x_{4, 2} \\\\ x_{4, 3} \\\\ x_{4, 4}\\end{matrix} &\n",
    "\\begin{matrix} x_{5, 1} \\\\ x_{5, 2} \\\\ x_{5, 3} \\\\ x_{5, 4}\\end{matrix} &\n",
    "\\begin{matrix} x_{6, 1} \\\\ x_{6, 2} \\\\ x_{6, 3} \\\\ x_{6, 4}\\end{matrix} &\n",
    "\\end{bmatrix}\n",
    "\\end{align}\n",
    "$$\n",
    "\n",
    "전치 연산으로 만든 행렬을 원래 행렬에 대한 전치행렬이라고 한다.\n",
    "\n",
    "$$ \n",
    "\\begin{align}\n",
    "x^T\n",
    "\\; \\rightarrow \\;\n",
    "x\n",
    "\\end{align}\n",
    "$$\n",
    "\n",
    "열벡터 $x$에 전치 연산을 적용한 $x^T$는 행 벡터가 된다.\n",
    "\n",
    "$$ \n",
    "\\begin{align}\n",
    "x = \n",
    "\\begin{bmatrix}\n",
    "x_{1} \\\\\n",
    "x_{2} \\\\\n",
    "\\vdots \\\\\n",
    "x_{N} \\\\\n",
    "\\end{bmatrix}\n",
    "\\; \\rightarrow \\;\n",
    "x^T = \n",
    "\\begin{bmatrix}\n",
    "x_{1} & x_{2} & \\cdots & x_{N}\n",
    "\\end{bmatrix}\n",
    "\\end{align}\n",
    "$$\n",
    "\n",
    "NumPy에서는 `ndarray` 객체의 `T`라는 속성을 이용하여 전치 행렬을 구한다. 이때 `T`는 메서드(method)가 아닌 속성(attribute)이므로 소괄호 ``()``를 붙여서 호출하면 안 된다."
   ]
  },
  {
   "cell_type": "code",
   "execution_count": 8,
   "metadata": {},
   "outputs": [
    {
     "data": {
      "text/plain": [
       "array([[11, 12, 13],\n",
       "       [21, 22, 23]])"
      ]
     },
     "execution_count": 8,
     "metadata": {},
     "output_type": "execute_result"
    }
   ],
   "source": [
    "A = np.array([[11,12,13],[21,22,23]])\n",
    "A"
   ]
  },
  {
   "cell_type": "code",
   "execution_count": 9,
   "metadata": {
    "school_cell_uuid": "354a23b55f324a63b030a7665a01f619"
   },
   "outputs": [
    {
     "data": {
      "text/plain": [
       "array([[11, 21],\n",
       "       [12, 22],\n",
       "       [13, 23]])"
      ]
     },
     "execution_count": 9,
     "metadata": {},
     "output_type": "execute_result"
    }
   ],
   "source": [
    "A.T"
   ]
  },
  {
   "cell_type": "markdown",
   "metadata": {
    "school_cell_uuid": "8d34f67cd26c42d1962e566bdbcff1ef"
   },
   "source": [
    "단, 1차원 `ndarray`는 전치 연산이 정의되지 않는다."
   ]
  },
  {
   "cell_type": "code",
   "execution_count": 10,
   "metadata": {
    "school_cell_uuid": "e00eb467cc514d28bd6a0aad46c37e5b"
   },
   "outputs": [
    {
     "data": {
      "text/plain": [
       "array([5.1, 3.5, 1.4, 0.2])"
      ]
     },
     "execution_count": 10,
     "metadata": {},
     "output_type": "execute_result"
    }
   ],
   "source": [
    "x1 = np.array([5.1, 3.5, 1.4, 0.2])\n",
    "x1"
   ]
  },
  {
   "cell_type": "code",
   "execution_count": 11,
   "metadata": {
    "school_cell_uuid": "0b1ebb68f6804663b57f0850c776d979"
   },
   "outputs": [
    {
     "data": {
      "text/plain": [
       "array([5.1, 3.5, 1.4, 0.2])"
      ]
     },
     "execution_count": 11,
     "metadata": {},
     "output_type": "execute_result"
    }
   ],
   "source": [
    "x1.T"
   ]
  },
  {
   "cell_type": "markdown",
   "metadata": {
    "school_cell_uuid": "3f056e92c6594898a8f856b188491784"
   },
   "source": [
    "### 행렬의 행 표기법과 열 표기법\n",
    "\n",
    "전치 연산과 행벡터/열벡터 블록을 이용하면 행렬을 복수의 열벡터 $c_i$, 또는 복수의 행벡터 $r_j^T$ 을 합친(concatenated) 형태로 표기할 수도 있다. 모든 벡터는 기본적으로 열벡터이므로 $r_i$를 전치 연산하여 $r_i^T$라고 행을 표현한 점에 주의한다.\n",
    "\n",
    "$$\n",
    "\\begin{align}\n",
    "X = \n",
    "\\begin{bmatrix}\n",
    "\\boxed{\\begin{matrix} \\phantom{\\LARGE\\mathstrut} \\\\ c_1 \\\\ \\phantom{\\LARGE\\mathstrut} \\end{matrix}} & \n",
    "\\boxed{\\begin{matrix} \\phantom{\\LARGE\\mathstrut} \\\\ c_2 \\\\ \\phantom{\\LARGE\\mathstrut} \\end{matrix}} & \n",
    "\\cdots &\n",
    "\\boxed{\\begin{matrix} \\phantom{\\LARGE\\mathstrut} \\\\ c_M \\\\ \\phantom{\\LARGE\\mathstrut} \\end{matrix}} \n",
    "\\end{bmatrix}\n",
    "=\n",
    "\\begin{bmatrix}\n",
    "\\boxed{\\begin{matrix} \\phantom{} & \\phantom{} & r_1^T & \\phantom{} & \\phantom{} \\end{matrix}} \\\\ \n",
    "\\boxed{\\begin{matrix} \\phantom{} & \\phantom{} & r_2^T & \\phantom{} & \\phantom{} \\end{matrix}} \\\\ \n",
    "\\vdots \\\\ \n",
    "\\boxed{\\begin{matrix} \\phantom{} & \\phantom{} & r_N^T & \\phantom{} & \\phantom{} \\end{matrix}} \\\\ \n",
    "\\end{bmatrix}\n",
    "\\end{align}\n",
    "$$\n",
    "\n",
    "식으로 나타내면 다음과 같다. \n",
    "\n",
    "$$\n",
    "\\begin{align}\n",
    "X \n",
    "=\n",
    "\\begin{bmatrix}\n",
    "c_1 & c_2 & \\cdots & c_M\n",
    "\\end{bmatrix}\n",
    "=\n",
    "\\begin{bmatrix}\n",
    "r_1^T  \\\\\n",
    "r_2^T  \\\\ \n",
    "\\vdots \\\\ \n",
    "r_N^T  \\\\  \n",
    "\\end{bmatrix}\n",
    "\\end{align}\n",
    "$$\n",
    "\n",
    "$$\n",
    "\\begin{align}\n",
    "X \\in \\mathbf{R}^{N\\times M}\n",
    "\\end{align}\n",
    "$$\n",
    "\n",
    "$$\n",
    "\\begin{align}\n",
    "c_i \\in \\mathbf{R}^{N \\times 1} \\; (i=1,\\cdots,M) \\\\\n",
    "r_j^T \\in \\mathbf{R}^{1 \\times M} \\; (j=1,\\cdots,N) \n",
    "\\end{align}\n",
    "$$\n",
    "\n",
    "예를 들어 행렬 $X$는\n",
    "\n",
    "$$ \n",
    "\\begin{align}\n",
    "X=\n",
    "\\begin{bmatrix}\n",
    "1 & 2 & 3 \\\\\n",
    "4 & 5 & 6\n",
    "\\end{bmatrix}\n",
    "\\end{align}\n",
    "$$\n",
    "\n",
    "- 열벡터\n",
    "\n",
    "$$ \n",
    "\\begin{align}\n",
    "c_1=\n",
    "\\begin{bmatrix}\n",
    "1 \\\\\n",
    "4 \n",
    "\\end{bmatrix},\n",
    "\\;\n",
    "c_2=\n",
    "\\begin{bmatrix}\n",
    "2 \\\\\n",
    "5 \n",
    "\\end{bmatrix},\n",
    "\\;\n",
    "c_3=\n",
    "\\begin{bmatrix}\n",
    "3 \\\\\n",
    "6 \n",
    "\\end{bmatrix}\n",
    "\\end{align}\n",
    "$$\n",
    "\n",
    "- 또는 행벡터\n",
    "\n",
    "$$ \n",
    "\\begin{align}\n",
    "r_1=\n",
    "\\begin{bmatrix}\n",
    "1 & 2 & 3\n",
    "\\end{bmatrix}^T,\n",
    "\\;\n",
    "r_2=\n",
    "\\begin{bmatrix}\n",
    "4 & 5 & 6\n",
    "\\end{bmatrix}^T\n",
    "\\end{align}\n",
    "$$\n",
    "\n",
    "로 구성되었다고 볼 수 있다."
   ]
  },
  {
   "cell_type": "markdown",
   "metadata": {
    "school_cell_uuid": "d4049e92100846ffb681eeee261fa5a5"
   },
   "source": [
    "### 특수한 벡터와 행렬\n",
    "\n",
    "몇 가지 특수한 벡터와 행렬은 별도의 기호나 이름이 붙는다. \n",
    "\n",
    "#### 영벡터 \n",
    "\n",
    "모든 원소가 0인 $N$차원 벡터는 **영벡터(zeros-vector)**라고 한다. 문맥상 차원을 알 수 있을 때는 아래 첨자 $N$을 생략할 수 있다.\n",
    "\n",
    "$$ \n",
    "\\begin{align}\n",
    "\\mathbf{0}_N = \\mathbf{0} = 0 =\n",
    "\\begin{bmatrix}\n",
    "0 \\\\\n",
    "0 \\\\\n",
    "\\vdots \\\\\n",
    "0 \\\\\n",
    "\\end{bmatrix}\n",
    "\\end{align}\n",
    "$$\n",
    "\n",
    "$$ \n",
    "\\begin{align}\n",
    "0 \\in \\mathbf{R}^{N \\times 1} \n",
    "\\end{align}\n",
    "$$\n",
    "\n",
    "#### 일벡터 \n",
    "\n",
    "모든 원소가 1인 $N$차원 벡터는 **일벡터(ones-vector)**라고 한다. 마찬가지로 아래 첨자 $N$을 생략할 수 있다.\n",
    "\n",
    "$$ \n",
    "\\begin{align}\n",
    "\\mathbf{1}_N = \\mathbf{1}  = 1 = \n",
    "\\begin{bmatrix}\n",
    "1 \\\\\n",
    "1 \\\\\n",
    "\\vdots \\\\\n",
    "1 \\\\\n",
    "\\end{bmatrix}\n",
    "\\end{align}\n",
    "$$\n",
    "\n",
    "$$ \n",
    "\\begin{align}\n",
    "1 \\in \\mathbf{R}^{N \\times 1} \n",
    "\\end{align}\n",
    "$$\n",
    "\n",
    "NumPy에서 영벡터는 `zeros()` 명령으로 만든다."
   ]
  },
  {
   "cell_type": "code",
   "execution_count": 12,
   "metadata": {
    "school_cell_uuid": "14ea0bf866bc4ce8ad55e4bff1da5bf3"
   },
   "outputs": [
    {
     "data": {
      "text/plain": [
       "array([[0.],\n",
       "       [0.],\n",
       "       [0.]])"
      ]
     },
     "execution_count": 12,
     "metadata": {},
     "output_type": "execute_result"
    }
   ],
   "source": [
    "np.zeros((3, 1))"
   ]
  },
  {
   "cell_type": "markdown",
   "metadata": {
    "school_cell_uuid": "e732c35fc5694fd3a926e90694e58d78"
   },
   "source": [
    "NumPy에서 일벡터는 `ones()` 명령으로 만든다."
   ]
  },
  {
   "cell_type": "code",
   "execution_count": 13,
   "metadata": {
    "school_cell_uuid": "1a4e3c46d980459fa6bebf772fd75fb4"
   },
   "outputs": [
    {
     "data": {
      "text/plain": [
       "array([[1.],\n",
       "       [1.],\n",
       "       [1.]])"
      ]
     },
     "execution_count": 13,
     "metadata": {},
     "output_type": "execute_result"
    }
   ],
   "source": [
    "np.ones((3, 1))"
   ]
  },
  {
   "cell_type": "markdown",
   "metadata": {
    "school_cell_uuid": "23f8589e46cd44b98ebbeb5a53187381"
   },
   "source": [
    "#### 정방행렬 \n",
    "\n",
    "행의 개수와 열의 개수가 같은 행렬을 **정방행렬(square matrix)**이라고 한다.\n",
    "\n",
    "#### 대각행렬\n",
    "\n",
    "행렬에서 행과 열이 같은 위치를 주대각(main diagonal) 또는 간단히 **대각(diagonal)** 성분이라고 한다. 대각 위치에 있지 않은 것들은 **비대각(off-diagonal)** 성분이라고 한다. 모든 비대각 성분이 0인 행렬을 **대각행렬(diagonal matrix)**이라고 한다.\n",
    "\n",
    "$$ \n",
    "\\begin{align}\n",
    "D = \n",
    "\\begin{bmatrix}\n",
    "d_{1} & 0 & \\cdots & 0 \\\\\n",
    "0 & d_{2} & \\cdots & 0 \\\\\n",
    "\\vdots & \\vdots & \\ddots & \\vdots \\\\\n",
    "0 & 0 & \\cdots & d_{N} \\\\\n",
    "\\end{bmatrix}\n",
    "\\end{align}\n",
    "$$\n",
    "\n",
    "$$ \n",
    "\\begin{align}\n",
    "D \\in \\mathbf{R}^{N \\times N} \n",
    "\\end{align}\n",
    "$$\n",
    "\n",
    "대각행렬이 되려면 비대각성분이 0이기만 하면 되고 대각성분은 0이든 아니든 상관없다. 또한 반드시 정방행렬일 필요도 없다. \n",
    "예를 들어 다음 행렬도 대각행렬이라고 할 수 있다.\n",
    "\n",
    "$$ \n",
    "\\begin{align}\n",
    "D = \n",
    "\\begin{bmatrix}\n",
    "d_{1} & 0 & \\cdots & 0 \\\\\n",
    "0 & d_{2} & \\cdots & 0 \\\\\n",
    "\\vdots & \\vdots & \\ddots & \\vdots \\\\\n",
    "0 & 0 & \\cdots & d_{M} \\\\\n",
    "0 & 0 & \\cdots & 0 \\\\\n",
    "0 & 0 & \\cdots & 0 \\\\\n",
    "0 & 0 & \\cdots & 0 \\\\\n",
    "\\end{bmatrix}\n",
    "\\end{align}\n",
    "$$\n",
    "\n",
    "$$\n",
    "\\begin{align}\n",
    "D \\in \\mathbf{R}^{N \\times M} \n",
    "\\end{align}\n",
    "$$\n",
    "\n",
    "NumPy로 대각 정방행렬을 생성하려면 `diag()` 명령을 사용한다."
   ]
  },
  {
   "cell_type": "code",
   "execution_count": 14,
   "metadata": {
    "school_cell_uuid": "31b719cb654a4b24ad9668cc69e61e06"
   },
   "outputs": [
    {
     "data": {
      "text/plain": [
       "array([[1, 0, 0],\n",
       "       [0, 2, 0],\n",
       "       [0, 0, 3]])"
      ]
     },
     "execution_count": 14,
     "metadata": {},
     "output_type": "execute_result"
    }
   ],
   "source": [
    "np.diag([1, 2, 3])"
   ]
  },
  {
   "cell_type": "markdown",
   "metadata": {
    "school_cell_uuid": "c3ce1dadc12f40f0bbc179b3dd937988"
   },
   "source": [
    "#### 항등행렬\n",
    "\n",
    "\n",
    "\n",
    "모든 대각성분의 값이 1인 대각행렬을 **항등행렬(identity matrix)**이라고 하며, $I$로 표기한다.\n",
    "\n",
    "$$ \n",
    "\\begin{align}\n",
    "I = \n",
    "\\begin{bmatrix}\n",
    "1 & 0 & \\cdots & 0 \\\\\n",
    "0 & 1 & \\cdots & 0 \\\\\n",
    "\\vdots & \\vdots & \\ddots & \\vdots \\\\\n",
    "0 & 0 & \\cdots & 1 \\\\\n",
    "\\end{bmatrix}\n",
    "\\end{align}\n",
    "$$\n",
    "\n",
    "$$ \n",
    "\\begin{align}\n",
    "I \\in \\mathbf{R}^{N \\times N}\n",
    "\\end{align}\n",
    "$$\n",
    "\n",
    "NumPy로 항등행렬을 생성하려면 `identity()` 혹은 `eye()` 명령을 사용한다."
   ]
  },
  {
   "cell_type": "code",
   "execution_count": 15,
   "metadata": {
    "school_cell_uuid": "a7ccde9759da483cb0de2d00d727501e"
   },
   "outputs": [
    {
     "data": {
      "text/plain": [
       "array([[1., 0., 0.],\n",
       "       [0., 1., 0.],\n",
       "       [0., 0., 1.]])"
      ]
     },
     "execution_count": 15,
     "metadata": {},
     "output_type": "execute_result"
    }
   ],
   "source": [
    "np.identity(3)"
   ]
  },
  {
   "cell_type": "code",
   "execution_count": 16,
   "metadata": {
    "school_cell_uuid": "53ddcb3245394dc39475ebb5bb056dcd"
   },
   "outputs": [
    {
     "data": {
      "text/plain": [
       "array([[1., 0., 0., 0.],\n",
       "       [0., 1., 0., 0.],\n",
       "       [0., 0., 1., 0.],\n",
       "       [0., 0., 0., 1.]])"
      ]
     },
     "execution_count": 16,
     "metadata": {},
     "output_type": "execute_result"
    }
   ],
   "source": [
    "np.eye(4)"
   ]
  },
  {
   "cell_type": "markdown",
   "metadata": {
    "school_cell_uuid": "c474812d92c045a29665babdf157cfe7"
   },
   "source": [
    "#### 대칭행렬\n",
    "\n",
    "만약 원래의 행렬과 전치행렬이 같으면 **대칭행렬(symmetric matrix)**이라고 한다. 정방행렬만 대칭행렬이 될 수 있다.\n",
    "\n",
    "$$ \n",
    "\\begin{align}\n",
    "S^{T} = S \n",
    "\\end{align}\n",
    "$$ \n",
    "\n",
    "$$ \n",
    "\\begin{align}\n",
    "S \\in \\mathbf{R}^{N \\times N} \n",
    "\\end{align}\n",
    "$$"
   ]
  },
  {
   "cell_type": "code",
   "execution_count": null,
   "metadata": {},
   "outputs": [],
   "source": [
    "> ### 소문난 명강의\n",
    "> # 김도형의 데이터 사이언스 스쿨 `수학 편`\n",
    "> 파이썬 라이브러리로 배우는 데이터 과학 필수 수학\n",
    "\n",
    "<img width=\"200\" alt=\"코로나아웃\" src=\"https://user-images.githubusercontent.com/45453533/83346193-4eee2900-a355-11ea-9f35-b9f451aba048.png\">\n",
    "\n",
    "을 요약한 내용입니다.\n",
    "<br><br>\n",
    "## Notebooks\n",
    "#### 2장 넘파이(NumPy)로 공부하는 선형대수\n",
    "- 02.01 [데이터와 행렬](https://nbviewer.jupyter.org/github/dataminegames/Mathematics/blob/master/%5B%EC%9A%94%EC%95%BD%5D%EA%B9%80%EB%8F%84%ED%98%95%EC%9D%98_%EB%8D%B0%EC%9D%B4%ED%84%B0%EC%82%AC%EC%9D%B4%EC%96%B8%EC%8A%A4%EC%8A%A4%EC%BF%A8_%EC%88%98%ED%95%99%ED%8E%B8/02.01%20%E1%84%83%E1%85%A6%E1%84%8B%E1%85%B5%E1%84%90%E1%85%A5%E1%84%8B%E1%85%AA%20%E1%84%92%E1%85%A2%E1%86%BC%E1%84%85%E1%85%A7%E1%86%AF.ipynb)\n"
   ]
  }
 ],
 "metadata": {
  "celltoolbar": "Edit Metadata",
  "hide_input": false,
  "kernelspec": {
   "display_name": "Python 3",
   "language": "python",
   "name": "python3"
  },
  "language_info": {
   "codemirror_mode": {
    "name": "ipython",
    "version": 3
   },
   "file_extension": ".py",
   "mimetype": "text/x-python",
   "name": "python",
   "nbconvert_exporter": "python",
   "pygments_lexer": "ipython3",
   "version": "3.6.6"
  },
  "latex_envs": {
   "LaTeX_envs_menu_present": true,
   "autoclose": false,
   "autocomplete": true,
   "bibliofile": "biblio.bib",
   "cite_by": "apalike",
   "current_citInitial": 1,
   "eqLabelWithNumbers": true,
   "eqNumInitial": 1,
   "hotkeys": {
    "equation": "Ctrl-E",
    "itemize": "Ctrl-I"
   },
   "labels_anchors": false,
   "latex_user_defs": false,
   "report_style_numbering": false,
   "user_envs_cfg": false
  },
  "toc": {
   "base_numbering": 1,
   "nav_menu": {},
   "number_sections": false,
   "sideBar": true,
   "skip_h1_title": false,
   "title_cell": "Table of Contents",
   "title_sidebar": "Contents",
   "toc_cell": false,
   "toc_position": {},
   "toc_section_display": true,
   "toc_window_display": false
  }
 },
 "nbformat": 4,
 "nbformat_minor": 1
}
